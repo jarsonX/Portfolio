{
 "cells": [
  {
   "cell_type": "markdown",
   "metadata": {},
   "source": [
    "**Immigration to Canada from Eastern Europe during 1980 - 2013**\n",
    "\n",
    "Regression"
   ]
  },
  {
   "cell_type": "code",
   "execution_count": 1,
   "metadata": {},
   "outputs": [],
   "source": [
    "import pandas as pd\n",
    "import numpy as np\n",
    "import matplotlib as mpl\n",
    "import matplotlib.pyplot as plt\n",
    "mpl.style.use(['ggplot'])\n",
    "#also needed: openpyxl (install by pip)"
   ]
  },
  {
   "cell_type": "code",
   "execution_count": 2,
   "metadata": {},
   "outputs": [
    {
     "name": "stdout",
     "output_type": "stream",
     "text": [
      "                    Continent          Region  1980  1981  1982  1983  1984  \\\n",
      "Country                                                                       \n",
      "Poland                 Europe  Eastern Europe   863  2930  5881  4546  3588   \n",
      "Romania                Europe  Eastern Europe   375   438   583   543   524   \n",
      "Russian Federation     Europe  Eastern Europe     0     0     0     0     0   \n",
      "Ukraine                Europe  Eastern Europe     0     0     0     0     0   \n",
      "Bulgaria               Europe  Eastern Europe    24    20    12    33    11   \n",
      "Hungary                Europe  Eastern Europe   205   310   397   337   310   \n",
      "Republic of Moldova    Europe  Eastern Europe     0     0     0     0     0   \n",
      "Belarus                Europe  Eastern Europe     0     0     0     0     0   \n",
      "Slovakia               Europe  Eastern Europe     0     0     0     0     0   \n",
      "Czech Republic         Europe  Eastern Europe     0     0     0     0     0   \n",
      "\n",
      "                     1985  1986  1987  ...  2005  2006  2007  2008  2009  \\\n",
      "Country                                ...                                 \n",
      "Poland               2819  4808  6931  ...  1405  1263  1235  1267  1013   \n",
      "Romania               604   656  1202  ...  5048  4468  3834  2837  2076   \n",
      "Russian Federation      0     0     0  ...  3972  3117  2983  2690  2931   \n",
      "Ukraine                 0     0     0  ...  2270  1973  2218  1937  2367   \n",
      "Bulgaria               24    33    52  ...  1738  1419  1172   994   784   \n",
      "Hungary               522   647   676  ...   516   520   425   383   312   \n",
      "Republic of Moldova     0     0     0  ...   655   803  1099  1127  1535   \n",
      "Belarus                 0     0     0  ...   558   439   568   524   454   \n",
      "Slovakia                0     0     0  ...   369   241   215   125   128   \n",
      "Czech Republic          0     0     0  ...   193   146   137   104   159   \n",
      "\n",
      "                     2010  2011  2012  2013   Total  \n",
      "Country                                              \n",
      "Poland                795   720   779   852  139241  \n",
      "Romania              1922  1776  1588  1512   93585  \n",
      "Russian Federation   2288  1963  2079  2466   63344  \n",
      "Ukraine              3159  2515  2265  2487   51410  \n",
      "Bulgaria              556   365   451   512   23310  \n",
      "Hungary               354   287   300   425   16822  \n",
      "Republic of Moldova  1988  1367  1416  1231   15381  \n",
      "Belarus               438   357   277   247    7975  \n",
      "Slovakia              135   134   136   105    5963  \n",
      "Czech Republic        168   128   173   174    4192  \n",
      "\n",
      "[10 rows x 37 columns]\n",
      "Done\n"
     ]
    },
    {
     "name": "stderr",
     "output_type": "stream",
     "text": [
      "c:\\Users\\krzys\\Desktop\\venv\\Projekty\\01-Immigration_CA\\dataset.py:18: FutureWarning: Dropping of nuisance columns in DataFrame reductions (with 'numeric_only=None') is deprecated; in a future version this will raise TypeError.  Select only valid columns before calling the reduction.\n",
      "  dataset['Total'] = dataset.sum(axis=1)\n"
     ]
    }
   ],
   "source": [
    "from dataset import *"
   ]
  },
  {
   "cell_type": "markdown",
   "metadata": {},
   "source": [
    "**Modify data**"
   ]
  },
  {
   "cell_type": "code",
   "execution_count": 33,
   "metadata": {},
   "outputs": [
    {
     "data": {
      "text/html": [
       "<div>\n",
       "<style scoped>\n",
       "    .dataframe tbody tr th:only-of-type {\n",
       "        vertical-align: middle;\n",
       "    }\n",
       "\n",
       "    .dataframe tbody tr th {\n",
       "        vertical-align: top;\n",
       "    }\n",
       "\n",
       "    .dataframe thead th {\n",
       "        text-align: right;\n",
       "    }\n",
       "</style>\n",
       "<table border=\"1\" class=\"dataframe\">\n",
       "  <thead>\n",
       "    <tr style=\"text-align: right;\">\n",
       "      <th></th>\n",
       "      <th>year</th>\n",
       "      <th>total</th>\n",
       "    </tr>\n",
       "  </thead>\n",
       "  <tbody>\n",
       "    <tr>\n",
       "      <th>0</th>\n",
       "      <td>1980</td>\n",
       "      <td>1467</td>\n",
       "    </tr>\n",
       "    <tr>\n",
       "      <th>1</th>\n",
       "      <td>1981</td>\n",
       "      <td>3698</td>\n",
       "    </tr>\n",
       "    <tr>\n",
       "      <th>2</th>\n",
       "      <td>1982</td>\n",
       "      <td>6873</td>\n",
       "    </tr>\n",
       "    <tr>\n",
       "      <th>3</th>\n",
       "      <td>1983</td>\n",
       "      <td>5459</td>\n",
       "    </tr>\n",
       "    <tr>\n",
       "      <th>4</th>\n",
       "      <td>1984</td>\n",
       "      <td>4433</td>\n",
       "    </tr>\n",
       "  </tbody>\n",
       "</table>\n",
       "</div>"
      ],
      "text/plain": [
       "   year  total\n",
       "0  1980   1467\n",
       "1  1981   3698\n",
       "2  1982   6873\n",
       "3  1983   5459\n",
       "4  1984   4433"
      ]
     },
     "execution_count": 33,
     "metadata": {},
     "output_type": "execute_result"
    }
   ],
   "source": [
    "df_pop = pd.DataFrame(datasetEE[years].sum(axis=0))  # total population per year\n",
    "\n",
    "df_pop.index = map(int, df_pop.index)  # needed for regression\n",
    "\n",
    "df_pop.reset_index(inplace=True)  # we need years back as a column rather than index\n",
    "\n",
    "df_pop.columns = ['year', 'total']\n",
    "\n",
    "df_pop.head()"
   ]
  },
  {
   "cell_type": "markdown",
   "metadata": {},
   "source": [
    "**Analysis**"
   ]
  },
  {
   "cell_type": "code",
   "execution_count": 4,
   "metadata": {},
   "outputs": [
    {
     "data": {
      "image/png": "[encoded data removed]",
      "text/plain": [
       "<Figure size 720x432 with 1 Axes>"
      ]
     },
     "metadata": {
      "needs_background": "light"
     },
     "output_type": "display_data"
    }
   ],
   "source": [
    "df_pop.plot(kind='scatter', x='year', y='total', figsize=(10, 6), color='blue')\n",
    "\n",
    "plt.title('Total immigration to Canada from EE (1980 - 2013)')\n",
    "plt.xlabel('Year')\n",
    "plt.ylabel('Number of Immigrants')\n",
    "\n",
    "plt.show()"
   ]
  },
  {
   "cell_type": "markdown",
   "metadata": {},
   "source": [
    "(1) Immigration from Poland for 2000 - 2010"
   ]
  },
  {
   "cell_type": "code",
   "execution_count": 54,
   "metadata": {},
   "outputs": [],
   "source": [
    "years_cut = list(map(str, range(2000, 2010)))  \n",
    "\n",
    "df_pol = datasetEE.loc['Poland', years_cut]\n",
    "\n",
    "df_pol = pd.DataFrame(df_pol)\n",
    "df_pol.reset_index(inplace=True)\n",
    "df_pol.columns = ['year', 'total']\n",
    "\n",
    "df_pol['year'] = df_pol['year'].astype('int64')  # required for regression\n",
    "df_pol['total'] = df_pol['total'].astype('int64')"
   ]
  },
  {
   "cell_type": "code",
   "execution_count": 67,
   "metadata": {},
   "outputs": [
    {
     "name": "stdout",
     "output_type": "stream",
     "text": [
      "fit: [-4.87333333e+01  9.90488667e+04]\n"
     ]
    },
    {
     "data": {
      "image/png": "[encoded data removed]",
      "text/plain": [
       "<Figure size 720x432 with 1 Axes>"
      ]
     },
     "metadata": {
      "needs_background": "light"
     },
     "output_type": "display_data"
    }
   ],
   "source": [
    "x = df_pol['year']\n",
    "y = df_pol['total']\n",
    "\n",
    "fit = np.polyfit(x, y, deg=1)\n",
    "\n",
    "print('fit:', fit)\n",
    "\n",
    "df_pol.plot(kind='scatter', x='year', y='total', figsize=(10, 6), color='blue')\n",
    "\n",
    "plt.title('Immigration from Poland to Canada (2000 - 2010)')\n",
    "plt.xlabel('Year')\n",
    "plt.ylabel('Number of Immigrants')\n",
    "\n",
    "plt.plot(x, fit[0] * x + fit[1], color='red') # recall that x is the Years\n",
    "plt.annotate('y = {0:.0f} x + {1:.0f}'.format(fit[0], fit[1]), xy=(2006, 1500))\n",
    "\n",
    "plt.show()"
   ]
  },
  {
   "cell_type": "code",
   "execution_count": 71,
   "metadata": {},
   "outputs": [
    {
     "data": {
      "text/plain": [
       "720"
      ]
     },
     "execution_count": 71,
     "metadata": {},
     "output_type": "execute_result"
    }
   ],
   "source": [
    "# Estimation of no. immigrants: -49 * 2011 + 99049 = 510\n",
    "# Actual data: 720\n",
    "# Difference: 210\n",
    "\n",
    "df_pol_2 = datasetEE.loc['Poland', '2011']\n",
    "df_pol_2"
   ]
  },
  {
   "cell_type": "markdown",
   "metadata": {},
   "source": [
    "**Comment**\n",
    "\n",
    "The above example shows how regression can be used to predict trends outside the dataset. The actual value was 720 vs 510 estimation. This is a 210 difference, i.e. almost 30%, which is quite a lot. However, keep in mind this case is very simple and imperfect (i.e. we actually have not used any predictors, because none were provided in the dataset). Better results could be achieved with more data and more advanced prediction techniques."
   ]
  }
 ],
 "metadata": {
  "kernelspec": {
   "display_name": "Python 3.10.5 ('venv': venv)",
   "language": "python",
   "name": "python3"
  },
  "language_info": {
   "codemirror_mode": {
    "name": "ipython",
    "version": 3
   },
   "file_extension": ".py",
   "mimetype": "text/x-python",
   "name": "python",
   "nbconvert_exporter": "python",
   "pygments_lexer": "ipython3",
   "version": "3.10.5"
  },
  "orig_nbformat": 4,
  "vscode": {
   "interpreter": {
    "hash": "04fef341d6176a7a2b1ca415e0aca3b5061c59ab41f4831d320393c944119a51"
   }
  }
 },
 "nbformat": 4,
 "nbformat_minor": 2
}
