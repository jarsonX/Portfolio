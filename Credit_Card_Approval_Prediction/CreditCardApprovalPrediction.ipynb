{
  "nbformat": 4,
  "nbformat_minor": 0,
  "metadata": {
    "colab": {
      "provenance": [],
      "collapsed_sections": [],
      "toc_visible": true
    },
    "kernelspec": {
      "name": "python3",
      "display_name": "Python 3"
    },
    "language_info": {
      "name": "python"
    }
  },
  "cells": [
    {
      "cell_type": "markdown",
      "source": [
        "#Jarosław Krzysztofik\n",
        "##Machine Learning and Data Science post-graduate course, 2022\n",
        "###Final project for Machine Learning class\n",
        "###University of Economics in Katowice\n",
        "\n",
        "\n",
        "\n"
      ],
      "metadata": {
        "id": "7Jcrg1-E4c4a"
      }
    },
    {
      "cell_type": "markdown",
      "source": [
        "**PROBLEM:**\n",
        "Create a credit card approval predictor with machine learning.\n",
        "\n",
        "**DATA:** Credit Approval Data Set, UCI Machine Learning Repository\n",
        "\n",
        "**SOURCE:** http://archive.ics.uci.edu/ml/datasets/credit+approval"
      ],
      "metadata": {
        "id": "cmBXegMqItM8"
      }
    },
    {
      "cell_type": "code",
      "source": [
        "import pandas as pd\n",
        "import numpy as np\n",
        "from sklearn import preprocessing as prep\n",
        "from sklearn.model_selection import cross_val_score\n",
        "from sklearn.model_selection import train_test_split\n",
        "from sklearn.metrics import classification_report, recall_score, precision_score"
      ],
      "metadata": {
        "id": "TmtX3JPv46pM"
      },
      "execution_count": null,
      "outputs": []
    },
    {
      "cell_type": "markdown",
      "source": [
        "##Load and transform data"
      ],
      "metadata": {
        "id": "dDbG_P_J4wWi"
      }
    },
    {
      "cell_type": "code",
      "source": [
        "df = pd.read_csv(\"crx.csv\")\n",
        "data = df.to_numpy()"
      ],
      "metadata": {
        "id": "nsYhMk4V43vp"
      },
      "execution_count": null,
      "outputs": []
    },
    {
      "cell_type": "code",
      "source": [
        "#By exploring the dataset in MS Excel, I have already identified there are missing\n",
        "#values denoted as \"?\". For numeric values I will change those to mean and for\n",
        "#non-numeric to the most frequent value.\n",
        "\n",
        "df = df.replace('?', np.NaN)\n",
        "\n",
        "df.fillna(df.mean(), inplace=True)\n",
        "\n",
        "for col in df.columns:\n",
        "    if df[col].dtypes == \"object\":\n",
        "        df = df.fillna(df[col].value_counts().index[0])"
      ],
      "metadata": {
        "colab": {
          "base_uri": "https://localhost:8080/"
        },
        "id": "io41d-mz5m71",
        "outputId": "bdaa9a8a-0aec-4caa-efb0-c59b4fe6327c"
      },
      "execution_count": null,
      "outputs": [
        {
          "output_type": "stream",
          "name": "stderr",
          "text": [
            "/usr/local/lib/python3.7/dist-packages/ipykernel_launcher.py:7: FutureWarning: Dropping of nuisance columns in DataFrame reductions (with 'numeric_only=None') is deprecated; in a future version this will raise TypeError.  Select only valid columns before calling the reduction.\n",
            "  import sys\n"
          ]
        }
      ]
    },
    {
      "cell_type": "code",
      "source": [
        "data_encoder = prep.LabelEncoder()\n",
        "\n",
        "for i in range(len(data[0])-1):\n",
        "  data[:,i] = data_encoder.fit_transform(data[:,i])"
      ],
      "metadata": {
        "id": "oZSSbSQX5HcB"
      },
      "execution_count": null,
      "outputs": []
    },
    {
      "cell_type": "markdown",
      "source": [
        "##ML algorithms"
      ],
      "metadata": {
        "id": "ToKoZdPx6W00"
      }
    },
    {
      "cell_type": "code",
      "source": [
        "X, y = data[:,:-1], data[:,-1]\n",
        "X_train, X_test, y_train, y_test = train_test_split(X, y, test_size=0.4)"
      ],
      "metadata": {
        "id": "cfjprHVX6YR8"
      },
      "execution_count": null,
      "outputs": []
    },
    {
      "cell_type": "markdown",
      "source": [
        "####Decision Tree"
      ],
      "metadata": {
        "id": "quosHjQ86umB"
      }
    },
    {
      "cell_type": "code",
      "source": [
        "from sklearn.tree import DecisionTreeClassifier"
      ],
      "metadata": {
        "id": "wV29K9pf-03X"
      },
      "execution_count": null,
      "outputs": []
    },
    {
      "cell_type": "markdown",
      "source": [
        "Cross-validation"
      ],
      "metadata": {
        "id": "jycYGdJ-4iaz"
      }
    },
    {
      "cell_type": "code",
      "source": [
        "classifier = DecisionTreeClassifier()\n",
        "result = cross_val_score(classifier, X, y, cv=5)\n",
        "print(result)"
      ],
      "metadata": {
        "colab": {
          "base_uri": "https://localhost:8080/"
        },
        "id": "K0h9f2Av631z",
        "outputId": "508a9b8a-6dfa-45bc-b690-8812e887baa6"
      },
      "execution_count": null,
      "outputs": [
        {
          "output_type": "stream",
          "name": "stdout",
          "text": [
            "[0.65217391 0.86231884 0.78985507 0.77536232 0.82481752]\n"
          ]
        }
      ]
    },
    {
      "cell_type": "markdown",
      "source": [
        "Train & Test"
      ],
      "metadata": {
        "id": "JZHpw88p7wPh"
      }
    },
    {
      "cell_type": "code",
      "source": [
        "classifier = DecisionTreeClassifier(max_depth=3)\n",
        "classifier.fit(X_train, y_train)\n",
        "\n",
        "y_pred = classifier.predict(X_test)\n",
        "\n",
        "print(\"Recall:\", recall_score(y_test, y_pred, average=None))\n",
        "print(\"Precision:\", precision_score(y_test, y_pred, average=None))\n",
        "print(\"\\nRaport:\\n\", classification_report(y_test, y_pred))"
      ],
      "metadata": {
        "colab": {
          "base_uri": "https://localhost:8080/"
        },
        "id": "4q1wfjQA7xnM",
        "outputId": "04e5aa7a-e4f9-4a53-b161-db77958a60b8"
      },
      "execution_count": null,
      "outputs": [
        {
          "output_type": "stream",
          "name": "stdout",
          "text": [
            "Recall: [0.83076923 0.91780822]\n",
            "Precision: [0.9        0.85897436]\n",
            "\n",
            "Raport:\n",
            "               precision    recall  f1-score   support\n",
            "\n",
            "           +       0.90      0.83      0.86       130\n",
            "           -       0.86      0.92      0.89       146\n",
            "\n",
            "    accuracy                           0.88       276\n",
            "   macro avg       0.88      0.87      0.88       276\n",
            "weighted avg       0.88      0.88      0.88       276\n",
            "\n"
          ]
        }
      ]
    },
    {
      "cell_type": "markdown",
      "source": [
        "###Logistics regression"
      ],
      "metadata": {
        "id": "dZ7aS1xj9kSZ"
      }
    },
    {
      "cell_type": "code",
      "source": [
        "from sklearn.linear_model import LogisticRegression"
      ],
      "metadata": {
        "id": "P4EhCRgh-vs_"
      },
      "execution_count": null,
      "outputs": []
    },
    {
      "cell_type": "code",
      "source": [
        "#In order to use logistic regression, first I need to scale the date. To do so,\n",
        "#some minor transformations are required.\n",
        "\n",
        "data = pd.DataFrame(data)\n",
        "\n",
        "data.replace(\"+\", 1, inplace=True)\n",
        "data.replace(\"-\", 0, inplace=True)"
      ],
      "metadata": {
        "id": "MHhLE2zGBkSR"
      },
      "execution_count": null,
      "outputs": []
    },
    {
      "cell_type": "code",
      "source": [
        "from sklearn.preprocessing import MinMaxScaler\n",
        "\n",
        "scaler = MinMaxScaler(feature_range=(0,1))\n",
        "data = scaler.fit_transform(data)\n",
        "data = scaler.transform(data)"
      ],
      "metadata": {
        "id": "zuEubzmz-yG7"
      },
      "execution_count": null,
      "outputs": []
    },
    {
      "cell_type": "code",
      "source": [
        "X, y = data[:,:-1], data[:,-1]\n",
        "X_train, X_test, y_train, y_test = train_test_split(X, y, test_size=0.4)"
      ],
      "metadata": {
        "id": "lb3YUsGSCMbn"
      },
      "execution_count": null,
      "outputs": []
    },
    {
      "cell_type": "markdown",
      "source": [
        "Cross-validation"
      ],
      "metadata": {
        "id": "zdzbXj4H9tdI"
      }
    },
    {
      "cell_type": "code",
      "source": [
        "classifier = LogisticRegression()\n",
        "result = cross_val_score(classifier, X, y, cv=5)\n",
        "print(result)"
      ],
      "metadata": {
        "colab": {
          "base_uri": "https://localhost:8080/"
        },
        "id": "MvNRpwYd9t0R",
        "outputId": "8fd171f3-e769-42da-fa4c-f257a0b56828"
      },
      "execution_count": null,
      "outputs": [
        {
          "output_type": "stream",
          "name": "stdout",
          "text": [
            "[0.62318841 0.96376812 0.97101449 0.76086957 0.93430657]\n"
          ]
        }
      ]
    },
    {
      "cell_type": "markdown",
      "source": [
        "Train & Test"
      ],
      "metadata": {
        "id": "1qajjul79uM_"
      }
    },
    {
      "cell_type": "code",
      "source": [
        "classifier = LogisticRegression()\n",
        "classifier.fit(X_train, y_train)\n",
        "\n",
        "y_pred = classifier.predict(X_test)\n",
        "\n",
        "print(\"Recall:\", recall_score(y_test, y_pred, average=None))\n",
        "print(\"Precision:\", precision_score(y_test, y_pred, average=None))\n",
        "print(\"\\nRaport:\\n\", classification_report(y_test, y_pred))"
      ],
      "metadata": {
        "colab": {
          "base_uri": "https://localhost:8080/"
        },
        "id": "uUKERz9X9vWA",
        "outputId": "32a2975b-4c2d-48be-973a-1033d614b0eb"
      },
      "execution_count": null,
      "outputs": [
        {
          "output_type": "stream",
          "name": "stdout",
          "text": [
            "Recall: [0.77922078 0.93442623]\n",
            "Precision: [0.9375     0.77027027]\n",
            "\n",
            "Raport:\n",
            "               precision    recall  f1-score   support\n",
            "\n",
            "         0.0       0.94      0.78      0.85       154\n",
            "         1.0       0.77      0.93      0.84       122\n",
            "\n",
            "    accuracy                           0.85       276\n",
            "   macro avg       0.85      0.86      0.85       276\n",
            "weighted avg       0.86      0.85      0.85       276\n",
            "\n"
          ]
        }
      ]
    }
  ]
}